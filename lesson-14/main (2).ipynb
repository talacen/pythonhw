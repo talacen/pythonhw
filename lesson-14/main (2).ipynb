{
 "cells": [
  {
   "cell_type": "markdown",
   "metadata": {},
   "source": [
    "## Json, Requests"
   ]
  },
  {
   "cell_type": "code",
   "execution_count": null,
   "metadata": {},
   "outputs": [],
   "source": [
    "# txt --- I am a student -- unstructured\n",
    "# CSV --- id,name,age,city -- semi-structured\n",
    "# XML --- <user><sql>\n",
    "# Yaml ---\n",
    "# Json --- Java Script Object -- semi-structured\n",
    "# PDF --- unstructured\n",
    "# SQL ---- structered"
   ]
  },
  {
   "cell_type": "code",
   "execution_count": null,
   "metadata": {},
   "outputs": [],
   "source": [
    "'''{\n",
    "    \"id\":1,\n",
    "    \"name\":\"Alex\",\n",
    "    \"age\":25\n",
    "}'''"
   ]
  },
  {
   "cell_type": "code",
   "execution_count": 1,
   "metadata": {},
   "outputs": [],
   "source": [
    "import json"
   ]
  },
  {
   "cell_type": "code",
   "execution_count": 2,
   "metadata": {},
   "outputs": [],
   "source": [
    "data = '''{\n",
    "    \"Student\":\n",
    "                [\n",
    "                    {\n",
    "                        \"id\":7,\n",
    "                        \"name\":\"Alex\",\n",
    "                        \"age\":25,\n",
    "                        \"pets\":[\"dogs\",\"cats\",\"bird\"],\n",
    "                        \"FamilyMembers\":\n",
    "                            [\n",
    "                                {\n",
    "                                    \"name\":\"David\",\n",
    "                                    \"age\":56,\n",
    "                                    \"relative\":\"father\"\n",
    "                                    \n",
    "                                },\n",
    "                                {\n",
    "                                    \"name\":\"Sara\",\n",
    "                                    \"age\":53,\n",
    "                                    \"relative\":\"mother\"\n",
    "                                    \n",
    "                                },\n",
    "                                {\n",
    "                                    \"name\":\"Rob\",\n",
    "                                    \"age\":26,\n",
    "                                    \"relative\":\"brother\"\n",
    "                                }\n",
    "                            ]\n",
    "                    },\n",
    "                    {\n",
    "                        \"id\":8,\n",
    "                        \"name\":\"Mironshox\",\n",
    "                        \"age\":19,\n",
    "                        \"pets\":[\"dogs\",\"cats\",\"bird\"],\n",
    "                        \"FamilyMembers\":\n",
    "                            [\n",
    "                                {\n",
    "                                    \"name\":\"A\",\n",
    "                                    \"age\":45,\n",
    "                                    \"relative\":\"father\"\n",
    "                                    \n",
    "                                },\n",
    "                                {\n",
    "                                    \"name\":\"B\",\n",
    "                                    \"age\":42,\n",
    "                                    \"relative\":\"mother\"\n",
    "                                    \n",
    "                                },\n",
    "                                {\n",
    "                                    \"name\":\"Islom\",\n",
    "                                    \"age\":21,\n",
    "                                    \"relative\":\"brother\"\n",
    "                                }\n",
    "                            ]\n",
    "                    }\n",
    "                ]\n",
    "}'''"
   ]
  },
  {
   "cell_type": "code",
   "execution_count": 13,
   "metadata": {},
   "outputs": [
    {
     "data": {
      "text/plain": [
       "{'Student': [{'id': 7,\n",
       "   'name': 'Alex',\n",
       "   'age': 25,\n",
       "   'pets': ['dogs', 'cats', 'bird'],\n",
       "   'FamilyMembers': [{'name': 'David', 'age': 56, 'relative': 'father'},\n",
       "    {'name': 'Sara', 'age': 53, 'relative': 'mother'},\n",
       "    {'name': 'Rob', 'age': 26, 'relative': 'brother'}]},\n",
       "  {'id': 8,\n",
       "   'name': 'Mironshox',\n",
       "   'age': 19,\n",
       "   'pets': ['dogs', 'cats', 'bird'],\n",
       "   'FamilyMembers': [{'name': 'A', 'age': 45, 'relative': 'father'},\n",
       "    {'name': 'B', 'age': 42, 'relative': 'mother'},\n",
       "    {'name': 'Islom', 'age': 21, 'relative': 'brother'}]}]}"
      ]
     },
     "execution_count": 13,
     "metadata": {},
     "output_type": "execute_result"
    }
   ],
   "source": [
    "data_py = json.loads(data)\n",
    "# print(type(data_py))\n",
    "# data_py[\"Student\"][1]['FamilyMembers'][0]['name']\n",
    "data_py"
   ]
  },
  {
   "cell_type": "code",
   "execution_count": null,
   "metadata": {},
   "outputs": [],
   "source": [
    "## load, loads --- from json format -- python native type\n",
    "    ## load -- json file -- python native\n",
    "    ## loads --- string (json format) -- python native\n",
    "## dump, dumps --- from python native type --- json format\n",
    "    ## dump -- python native type -- json file\n",
    "    ## dumps -- python native type -- string (json format)"
   ]
  },
  {
   "cell_type": "code",
   "execution_count": 14,
   "metadata": {},
   "outputs": [
    {
     "data": {
      "text/plain": [
       "{'Student': [{'id': 7,\n",
       "   'name': 'Alex',\n",
       "   'age': 25,\n",
       "   'pets': ['dogs', 'cats', 'bird'],\n",
       "   'FamilyMembers': [{'name': 'David', 'age': 56, 'relative': 'father'},\n",
       "    {'name': 'Sara', 'age': 53, 'relative': 'mother'},\n",
       "    {'name': 'Rob', 'age': 26, 'relative': 'brother'}]},\n",
       "  {'id': 8,\n",
       "   'name': 'Mironshox',\n",
       "   'age': 19,\n",
       "   'pets': ['dogs', 'cats', 'bird'],\n",
       "   'FamilyMembers': [{'name': 'A', 'age': 45, 'relative': 'father'},\n",
       "    {'name': 'B', 'age': 42, 'relative': 'mother'},\n",
       "    {'name': 'Islom', 'age': 21, 'relative': 'brother'}]}]}"
      ]
     },
     "execution_count": 14,
     "metadata": {},
     "output_type": "execute_result"
    }
   ],
   "source": [
    "with open('test.json','r') as f:\n",
    "    data_py2 = json.load(f)\n",
    "data_py2"
   ]
  },
  {
   "cell_type": "code",
   "execution_count": 24,
   "metadata": {},
   "outputs": [],
   "source": [
    "d = {\n",
    "    'name':\"Azamat\",\n",
    "     \"age\":20,\n",
    "     \"city\":\"Khorazm\"\n",
    "    }"
   ]
  },
  {
   "cell_type": "code",
   "execution_count": 23,
   "metadata": {},
   "outputs": [
    {
     "data": {
      "text/plain": [
       "'{\"name\": \"Azamat\", \"age\": 20, \"city\": \"Khorazm\"}'"
      ]
     },
     "execution_count": 23,
     "metadata": {},
     "output_type": "execute_result"
    }
   ],
   "source": [
    "d_json = json.dumps(d)\n",
    "d_json"
   ]
  },
  {
   "cell_type": "code",
   "execution_count": 25,
   "metadata": {},
   "outputs": [],
   "source": [
    "with open('test2.json','w') as f:\n",
    "    json.dump(d,f)"
   ]
  },
  {
   "cell_type": "code",
   "execution_count": null,
   "metadata": {},
   "outputs": [],
   "source": [
    "## task is to create csv file called  FamilyMembers which include all family members details"
   ]
  },
  {
   "cell_type": "code",
   "execution_count": 50,
   "metadata": {},
   "outputs": [],
   "source": [
    "with open('familymembers.csv','w') as f:\n",
    "    columns = ','.join(data_py['Student'][0]['FamilyMembers'][0].keys()) +','+'StudentName' + '\\n'\n",
    "    f.write(columns)\n",
    "    for obj in data_py['Student']:\n",
    "        for obj2 in obj['FamilyMembers']:\n",
    "            values = ','.join(map(str,obj2.values())) +','+ obj['name'] + '\\n'\n",
    "            f.write(values)\n",
    "    \n",
    "# for obj in data_py['Student']:\n",
    "#         for obj2 in obj['FamilyMembers']:\n",
    "#             values = ','.join(map(str,obj2.values())) +','+ obj['name']\n",
    "#             f.write(values)\n",
    "            "
   ]
  }
 ],
 "metadata": {
  "kernelspec": {
   "display_name": "Python 3",
   "language": "python",
   "name": "python3"
  },
  "language_info": {
   "codemirror_mode": {
    "name": "ipython",
    "version": 3
   },
   "file_extension": ".py",
   "mimetype": "text/x-python",
   "name": "python",
   "nbconvert_exporter": "python",
   "pygments_lexer": "ipython3",
   "version": "3.12.3"
  }
 },
 "nbformat": 4,
 "nbformat_minor": 2
}
